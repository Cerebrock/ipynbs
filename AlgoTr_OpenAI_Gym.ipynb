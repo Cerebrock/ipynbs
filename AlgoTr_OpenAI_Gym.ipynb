{
 "cells": [
  {
   "cell_type": "code",
   "execution_count": 1,
   "metadata": {},
   "outputs": [],
   "source": [
    "import ccxt\n",
    "from datetime import datetime, timedelta, timezone\n",
    "import math\n",
    "import argparse\n",
    "import random\n",
    "import numpy as np\n",
    "import pandas as pd \n",
    "import trading_env\n",
    "from scrap import *\n",
    "import gym\n",
    "from gym import error, spaces, utils\n",
    "from gym.utils import seeding\n",
    "from collections import defaultdict"
   ]
  },
  {
   "cell_type": "code",
   "execution_count": 2,
   "metadata": {},
   "outputs": [],
   "source": [
    "class TradingEnv(gym.Env):\n",
    "    metadata = {'render.modes': ['human']}\n",
    "\n",
    "    def __init__(self, exchange='binance', symbol='NEO/ETH', timestep='5m'):\n",
    "        self.apikey = 'API_KEY'\n",
    "        self.secret = 'SECRET'\n",
    "        self.exchange_name = exchange\n",
    "        self.filename = self.exchange_name+'.csv'\n",
    "        self.symbol = symbol\n",
    "        self.timestep = timestep\n",
    "        self.start = '2019-01-15T00:00:00Z'\n",
    "        self.size = 1000\n",
    "        self.fee = 0\n",
    "        self.fetch_data()\n",
    "        \n",
    "    def fetch_data(self):\n",
    "        data = scrape_candles(self.filename, self.exchange_name, 3, \n",
    "                                 self.symbol, self.timestep, self.start, self.size, False)\n",
    "        header = ['Timestamp', 'Open', 'High', 'Low', 'Close', 'Volume']\n",
    "        df = pd.DataFrame(data, columns=header).set_index('Timestamp')\n",
    "        self.data = df\n",
    "    \n",
    "    def get_rates(self, unit = 'USDT'):\n",
    "        ...\n",
    "        rates = []\n",
    "        for k in self.portfolio:\n",
    "            ...        \n",
    "        return rates\n",
    "    \n",
    "    def step(self, action):\n",
    "        ...\n",
    "        return obs, rew, done, info\n",
    "    \n",
    "    def reset(self):\n",
    "        ...\n",
    "        \n",
    "    def render(self, mode='human', close=False):\n",
    "        ..."
   ]
  },
  {
   "cell_type": "code",
   "execution_count": 3,
   "metadata": {},
   "outputs": [],
   "source": [
    "class Trader(object):\n",
    "    def __init__(self, exchange='binance', portfolio={'NEO/ETH':0}):\n",
    "        self.symbols = portfolio.keys()\n",
    "        self.timeframe = '5m'    \n",
    "        self.action_space = ['buy', 'sell', 'hold']\n",
    "        self.portfolio = portfolio\n",
    "        \n",
    "    def decide(self, state):\n",
    "        ...\n",
    "        \n",
    "    def loss():\n",
    "        ..."
   ]
  },
  {
   "cell_type": "code",
   "execution_count": 4,
   "metadata": {},
   "outputs": [
    {
     "name": "stdout",
     "output_type": "stream",
     "text": [
      "456 candles in total from 2017-07-14T00:00:00.000Z to 2019-01-16T00:00:00.000Z\n",
      "Got 456 candles from 2017-07-14T00:00:00.000Z to 2019-01-16T00:00:00.000Z to buda.csv\n"
     ]
    }
   ],
   "source": [
    "env = TradingEnv(exchange='buda', symbol='ETH/BTC', timestep='1d')"
   ]
  },
  {
   "cell_type": "code",
   "execution_count": 5,
   "metadata": {},
   "outputs": [],
   "source": [
    "agent = Trader(exchange='buda')"
   ]
  },
  {
   "cell_type": "code",
   "execution_count": 6,
   "metadata": {},
   "outputs": [
    {
     "data": {
      "text/plain": [
       "{'NEO/ETH': 0}"
      ]
     },
     "execution_count": 6,
     "metadata": {},
     "output_type": "execute_result"
    }
   ],
   "source": [
    "agent.portfolio"
   ]
  },
  {
   "cell_type": "code",
   "execution_count": 7,
   "metadata": {},
   "outputs": [],
   "source": [
    "class Agent(object):\n",
    "    def __init__(self):\n",
    "        self.strategy = np.random.choice"
   ]
  },
  {
   "cell_type": "code",
   "execution_count": 8,
   "metadata": {},
   "outputs": [],
   "source": [
    "# env = TradingEnv()\n",
    "# agent = Agent()\n",
    "# n = 100\n",
    "# for i in range(n):\n",
    "    # \n",
    "    # action = Agent.act(state)\n",
    "    # your agent here (this takes random actions)\n",
    "    # st, reward, done, info = env.step(action)"
   ]
  },
  {
   "cell_type": "markdown",
   "metadata": {},
   "source": [
    "## Buda"
   ]
  },
  {
   "cell_type": "code",
   "execution_count": 9,
   "metadata": {},
   "outputs": [],
   "source": [
    "import requests\n",
    "\n",
    "market_id = 'btc-clp'\n",
    "url = f'https://www.buda.com/api/v2/markets/{market_id}/ticker'\n",
    "url = f'https://www.buda.com/api/v2/markets/{market_id}/order_book'\n",
    "response = requests.get(url)\n",
    "#print(response.json())"
   ]
  }
 ],
 "metadata": {
  "kernelspec": {
   "display_name": "Python [conda env:tensor]",
   "language": "python",
   "name": "conda-env-tensor-py"
  },
  "language_info": {
   "codemirror_mode": {
    "name": "ipython",
    "version": 3
   },
   "file_extension": ".py",
   "mimetype": "text/x-python",
   "name": "python",
   "nbconvert_exporter": "python",
   "pygments_lexer": "ipython3",
   "version": "3.6.8"
  }
 },
 "nbformat": 4,
 "nbformat_minor": 2
}
