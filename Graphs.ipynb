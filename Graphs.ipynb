{
 "cells": [
  {
   "cell_type": "code",
   "execution_count": 79,
   "metadata": {
    "collapsed": true
   },
   "outputs": [],
   "source": [
    "import csv\n",
    "import networkx as nx\n",
    "from itertools import combinations\n",
    "import matplotlib.pyplot as plt\n",
    "import numpy as np\n",
    "import seaborn as sns\n",
    "import random\n",
    "import pandas as pd\n",
    "%matplotlib inline"
   ]
  },
  {
   "cell_type": "markdown",
   "metadata": {},
   "source": [
    "## 1. Creación del Grafo\n",
    "A partir del archivo de datos, genere el grafo de colaboraciones entre autores. Cuente el número de nodos y aristas. Haga una representación gráfica del grafo."
   ]
  },
  {
   "cell_type": "code",
   "execution_count": 2,
   "metadata": {
    "collapsed": true
   },
   "outputs": [],
   "source": [
    "autores_por_paper = []\n",
    "with open('data.csv', 'r') as f_input:\n",
    "    reader = csv.reader(f_input)\n",
    "    for row in reader:\n",
    "        autores_por_paper.append([a.strip() for a in row[3].split('&')])"
   ]
  },
  {
   "cell_type": "code",
   "execution_count": 3,
   "metadata": {
    "collapsed": true
   },
   "outputs": [],
   "source": [
    "grafo = nx.Graph()\n",
    "\n",
    "for paper in autores_por_paper:\n",
    "    if len(paper) == 1:\n",
    "        grafo.add_node(paper[0])\n",
    "    else:\n",
    "        for c in combinations(paper, 2):\n",
    "            grafo.add_edge(c[0], c[1])\n",
    "        "
   ]
  },
  {
   "cell_type": "code",
   "execution_count": 4,
   "metadata": {},
   "outputs": [
    {
     "name": "stdout",
     "output_type": "stream",
     "text": [
      "Cantidad de nodos: 3998\n",
      "Cantidad de aristas: 7880\n"
     ]
    }
   ],
   "source": [
    "print('Cantidad de nodos: {}'.format(grafo.number_of_nodes()))\n",
    "print('Cantidad de aristas: {}'.format(grafo.number_of_edges()))"
   ]
  },
  {
   "cell_type": "markdown",
   "metadata": {},
   "source": [
    "Con subgraph (https://networkx.github.io/documentation/networkx-1.10/reference/generated/networkx.Graph.subgraph.html) podemos pasar una lista de nodos para que nos devuelva el grafo inducido.\n",
    "\n",
    "Ahora bien, dada la distribución del grafo, debemos obtener un "
   ]
  },
  {
   "cell_type": "markdown",
   "metadata": {},
   "source": [
    "Vamos a graficar una muestra del grafo, ya que tiene demasiados nodos como para graficar el grafo entero."
   ]
  },
  {
   "cell_type": "code",
   "execution_count": 5,
   "metadata": {
    "collapsed": true
   },
   "outputs": [],
   "source": [
    "CANTIDAD_NODOS_SUBMUESTRA = 100"
   ]
  },
  {
   "cell_type": "code",
   "execution_count": 6,
   "metadata": {
    "collapsed": true
   },
   "outputs": [],
   "source": [
    "distribucion_grados = nx.degree_histogram(grafo)\n",
    "proporciones = np.array(distribucion_grados) / grafo.number_of_nodes()\n",
    "cantidad_autores_submuestra_por_grado = proporciones * CANTIDAD_NODOS_SUBMUESTRA"
   ]
  },
  {
   "cell_type": "code",
   "execution_count": 7,
   "metadata": {
    "collapsed": true
   },
   "outputs": [],
   "source": [
    "autores_por_grado = {}\n",
    "for autor, grado in nx.degree(grafo):\n",
    "    try:\n",
    "        autores_por_grado[grado].append(autor)\n",
    "    except KeyError:\n",
    "        autores_por_grado[grado] = [autor]"
   ]
  },
  {
   "cell_type": "code",
   "execution_count": 8,
   "metadata": {
    "collapsed": true
   },
   "outputs": [],
   "source": [
    "autores_subgrafo = []\n",
    "for grado, autores in autores_por_grado.items():\n",
    "    muestra = np.random.choice(autores, int(cantidad_autores_submuestra_por_grado[grado]))\n",
    "    autores_subgrafo.extend(muestra)"
   ]
  },
  {
   "cell_type": "code",
   "execution_count": 9,
   "metadata": {},
   "outputs": [
    {
     "data": {
      "image/png": "[encoded data removed]",
      "text/plain": [
       "<matplotlib.figure.Figure at 0x115ce2ac8>"
      ]
     },
     "metadata": {},
     "output_type": "display_data"
    }
   ],
   "source": [
    "subgrafo_para_graficar = grafo.subgraph(autores_subgrafo)\n",
    "nx.draw(subgrafo_para_graficar)\n"
   ]
  },
  {
   "cell_type": "markdown",
   "metadata": {},
   "source": [
    "El subgrafo no es representativo del grafo. Al elegir nodos al azar, por más que respete las proporciones de grado en el grafo original, queda con un subgrafo inducido que no respeta PARA NADA esas proporciones. De hecho, queda un grafo casi sin aristas."
   ]
  },
  {
   "cell_type": "markdown",
   "metadata": {},
   "source": [
    "## Distribución del grafo\n",
    "Grafique la distribución del grado de los autores, en escalas lineales, semilogarítmica, y log-log. Argumente, a partir de los gráficos, de qué tipo de distribución se trata."
   ]
  },
  {
   "cell_type": "markdown",
   "metadata": {},
   "source": [
    "### Distribución de grado de los autores\n",
    "#### Lineal"
   ]
  },
  {
   "cell_type": "code",
   "execution_count": 10,
   "metadata": {},
   "outputs": [
    {
     "data": {
      "text/plain": [
       "[<matplotlib.lines.Line2D at 0x1162cdba8>]"
      ]
     },
     "execution_count": 10,
     "metadata": {},
     "output_type": "execute_result"
    },
    {
     "data": {
      "image/png": "[encoded data removed]",
      "text/plain": [
       "<matplotlib.figure.Figure at 0x1161d00b8>"
      ]
     },
     "metadata": {},
     "output_type": "display_data"
    }
   ],
   "source": [
    "distribucion_grados = nx.degree_histogram(grafo)\n",
    "\n",
    "plt.plot(range(len(distribucion_grados)), distribucion_grados)"
   ]
  },
  {
   "cell_type": "markdown",
   "metadata": {},
   "source": [
    "### Semilogarítmica"
   ]
  },
  {
   "cell_type": "code",
   "execution_count": 11,
   "metadata": {},
   "outputs": [
    {
     "data": {
      "text/plain": [
       "[<matplotlib.lines.Line2D at 0x1162e5f60>]"
      ]
     },
     "execution_count": 11,
     "metadata": {},
     "output_type": "execute_result"
    },
    {
     "data": {
      "image/png": "[encoded data removed]",
      "text/plain": [
       "<matplotlib.figure.Figure at 0x1162f30b8>"
      ]
     },
     "metadata": {},
     "output_type": "display_data"
    }
   ],
   "source": [
    "plt.semilogy(range(len(distribucion_grados)), distribucion_grados)"
   ]
  },
  {
   "cell_type": "markdown",
   "metadata": {},
   "source": [
    "### Loglog"
   ]
  },
  {
   "cell_type": "code",
   "execution_count": 12,
   "metadata": {},
   "outputs": [
    {
     "data": {
      "text/plain": [
       "[<matplotlib.lines.Line2D at 0x116194ef0>]"
      ]
     },
     "execution_count": 12,
     "metadata": {},
     "output_type": "execute_result"
    },
    {
     "data": {
      "image/png": "[encoded data removed]",
      "text/plain": [
       "<matplotlib.figure.Figure at 0x1164a3f98>"
      ]
     },
     "metadata": {},
     "output_type": "display_data"
    }
   ],
   "source": [
    "plt.loglog(range(len(distribucion_grados)), distribucion_grados)"
   ]
  },
  {
   "cell_type": "markdown",
   "metadata": {},
   "source": [
    "Viendo los gráficos parece que lleva una distribución exponencial."
   ]
  },
  {
   "cell_type": "markdown",
   "metadata": {},
   "source": [
    "## Componentes Conexas"
   ]
  },
  {
   "cell_type": "code",
   "execution_count": 15,
   "metadata": {},
   "outputs": [
    {
     "name": "stdout",
     "output_type": "stream",
     "text": [
      "Cantidad de componentes conexas: 536\n"
     ]
    }
   ],
   "source": [
    "print(\"Cantidad de componentes conexas: {}\".format(nx.number_connected_components(grafo)))"
   ]
  },
  {
   "cell_type": "markdown",
   "metadata": {},
   "source": [
    "### Buscar el tamaño de la componente mayor"
   ]
  },
  {
   "cell_type": "code",
   "execution_count": 17,
   "metadata": {},
   "outputs": [
    {
     "name": "stdout",
     "output_type": "stream",
     "text": [
      "3018\n",
      "18\n",
      "11\n",
      "10\n",
      "10\n"
     ]
    }
   ],
   "source": [
    "componentes = sorted(nx.connected_components(grafo), key = len, reverse=True)\n",
    "\n",
    "for c in componentes[:5]:\n",
    "    print(len(c))"
   ]
  },
  {
   "cell_type": "markdown",
   "metadata": {},
   "source": [
    "Como se ve, la componente de tamaño mayor es de 3018. La siguiente componente en tamaño es ordenes de magnitud mas chica como se ve al tomar las 5 más grandes."
   ]
  },
  {
   "cell_type": "code",
   "execution_count": 18,
   "metadata": {},
   "outputs": [
    {
     "name": "stdout",
     "output_type": "stream",
     "text": [
      "301\n"
     ]
    }
   ],
   "source": [
    "tam_uno = 0\n",
    "for c in componentes:\n",
    "    if len(c) == 1:\n",
    "        tam_uno += 1\n",
    "print(tam_uno)"
   ]
  },
  {
   "cell_type": "markdown",
   "metadata": {},
   "source": [
    "Además, podemos ver que 301 componentes son de tamaño uno. Es decir, que hay 301 autores que no comparten papers con otros."
   ]
  },
  {
   "cell_type": "markdown",
   "metadata": {},
   "source": [
    "## Tamaños de vecindades\n",
    "Trabajando con la componente gigante del grafo, estudie, parándose en un nodo al azar, cómo aumenta el número de autores alcanzados a medida que se aleja del nodo semilla. Grafique el número de autores alcanzados en función de la distancia al nodo semilla. Grafique también el número de nuevos autores que se agregan en cada paso, y estime el máximo de esta función. Pruebe con varios nodos semillas y analice la robustez de este resultado. Discuta el significado de los gráficos y su relación con el fenómeno de seis grados de separación."
   ]
  },
  {
   "cell_type": "code",
   "execution_count": 51,
   "metadata": {},
   "outputs": [],
   "source": [
    "def tamaño_vecindades(G, nodo_semilla):\n",
    "    '''G tiene que ser conexo'''\n",
    "    if not nx.is_connected(G):\n",
    "        raise ValueError\n",
    "    s = set()\n",
    "    s.add(nodo_semilla)\n",
    "    while len(s) < G.number_of_nodes():\n",
    "        iniciales = len(s)\n",
    "        vecinos_iteracion = set()\n",
    "        for n in s:\n",
    "            for v in G.neighbors(n):\n",
    "                vecinos_iteracion.add(v)\n",
    "        s = s.union(vecinos_iteracion)\n",
    "        yield len(s) - iniciales\n"
   ]
  },
  {
   "cell_type": "code",
   "execution_count": 85,
   "metadata": {},
   "outputs": [],
   "source": [
    "componente_gigante = nx.Graph(grafo.subgraph(componentes[0]))\n",
    "\n",
    "def datos_autores_por_distancia(componente_gigante, iteraciones):\n",
    "    promedios = []\n",
    "    for _ in range(iteraciones):\n",
    "        nodo_semilla = random.choice(list(componente_gigante.nodes()))\n",
    "        distancia = 0\n",
    "        it = [0 for _ in range(16)]\n",
    "        for i in tamaño_vecindades(componente_gigante, nodo_semilla):\n",
    "            it[distancia] = i\n",
    "            distancia += 1\n",
    "        promedios.append(it)\n",
    "    return promedios"
   ]
  },
  {
   "cell_type": "markdown",
   "metadata": {},
   "source": [
    "### Gráfico de cantidad de nuevos autores que se agregan en cada paso"
   ]
  },
  {
   "cell_type": "code",
   "execution_count": 86,
   "metadata": {},
   "outputs": [
    {
     "data": {
      "image/png": "[encoded data removed]",
      "text/plain": [
       "<matplotlib.figure.Figure at 0x1191f6f98>"
      ]
     },
     "metadata": {},
     "output_type": "display_data"
    }
   ],
   "source": [
    "proms = datos_autores_por_distancia(componente_gigante, 500)\n",
    "df = pd.DataFrame(proms)\n",
    "sns.boxplot(data=df);"
   ]
  },
  {
   "cell_type": "markdown",
   "metadata": {},
   "source": [
    "### Gráfico de cantidad de autores totales que se alcanzan a medida que aumenta la distancia al nodo semilla"
   ]
  },
  {
   "cell_type": "code",
   "execution_count": 91,
   "metadata": {},
   "outputs": [],
   "source": [
    "promedio_nuevos_por_distancia = df.mean(axis=0)\n",
    "acumulados = []\n",
    "suma = 0\n",
    "for i in promedio_nuevos_por_distancia:\n",
    "    suma += i\n",
    "    acumulados.append(suma)"
   ]
  },
  {
   "cell_type": "code",
   "execution_count": 93,
   "metadata": {},
   "outputs": [
    {
     "data": {
      "text/plain": [
       "[<matplotlib.lines.Line2D at 0x11b74d8d0>]"
      ]
     },
     "execution_count": 93,
     "metadata": {},
     "output_type": "execute_result"
    },
    {
     "data": {
      "image/png": "[encoded data removed]",
      "text/plain": [
       "<matplotlib.figure.Figure at 0x118a8eb00>"
      ]
     },
     "metadata": {},
     "output_type": "display_data"
    }
   ],
   "source": [
    "plt.plot(acumulados)"
   ]
  },
  {
   "cell_type": "markdown",
   "metadata": {},
   "source": [
    "### ¿Seis? grados de separación"
   ]
  },
  {
   "cell_type": "markdown",
   "metadata": {},
   "source": [
    "Como se desprende de los gráficos, no alcanza con seis grados de separación para alcanzar a **todos** los nodos del grafo. Sin embargo, sí se alcanza a un porcentaje muy grande del grafo (83% aprox.). En el boxplot se ve como en el grado seis ya baja la cantidad de autores nuevos que se agregan, ya que la mayoría de los que se agregan en ese paso, ya habían sido alcanzados."
   ]
  },
  {
   "cell_type": "markdown",
   "metadata": {},
   "source": [
    "## 5. Mundos Pequeños\n",
    "Compute el coeficiente de clustering C y el camino mínimo medio _l_ para la componente gigante. Genere un grafo aleatorio con la misma distribución de grado y compute las mismas medidas para este grafo. Compare e interprete los resultados. ¿Se trata de un grafo con estructura de mundos pequeños?"
   ]
  },
  {
   "cell_type": "code",
   "execution_count": 107,
   "metadata": {
    "collapsed": true
   },
   "outputs": [],
   "source": [
    "def clustering_y_shortest_path(G):\n",
    "    print(\"Coeficiente de clustering C: {}\".format(nx.algorithms.cluster.average_clustering(G)))\n",
    "    print(\"Camino mínimo medio: {}\".format(nx.algorithms.shortest_paths.generic.average_shortest_path_length(G)))"
   ]
  },
  {
   "cell_type": "code",
   "execution_count": 104,
   "metadata": {},
   "outputs": [
    {
     "name": "stdout",
     "output_type": "stream",
     "text": [
      "Coeficiente de clustering C: 0.48400143699699166\n",
      "Camino mínimo medio: 6.131037221593651\n"
     ]
    }
   ],
   "source": [
    "clustering_y_shortest_path(componente_gigante)"
   ]
  },
  {
   "cell_type": "code",
   "execution_count": 128,
   "metadata": {
    "collapsed": true
   },
   "outputs": [],
   "source": [
    "grados = [grado for autor,grado in nx.degree(componente_gigante)]"
   ]
  },
  {
   "cell_type": "code",
   "execution_count": 129,
   "metadata": {},
   "outputs": [],
   "source": [
    "mundo_aleatorio = nx.generators.degree_seq.random_degree_sequence_graph(grados)"
   ]
  },
  {
   "cell_type": "code",
   "execution_count": 130,
   "metadata": {},
   "outputs": [
    {
     "data": {
      "text/plain": [
       "11"
      ]
     },
     "execution_count": 130,
     "metadata": {},
     "output_type": "execute_result"
    }
   ],
   "source": [
    "nx.number_connected_components(mundo_aleatorio)"
   ]
  },
  {
   "cell_type": "code",
   "execution_count": 131,
   "metadata": {
    "collapsed": true
   },
   "outputs": [],
   "source": [
    "componentes_mundo_aleatorio = sorted(nx.connected_components(mundo_aleatorio), key = len, reverse=True)"
   ]
  },
  {
   "cell_type": "code",
   "execution_count": 132,
   "metadata": {},
   "outputs": [
    {
     "name": "stdout",
     "output_type": "stream",
     "text": [
      "2997\n",
      "3\n",
      "2\n",
      "2\n",
      "2\n",
      "2\n",
      "2\n",
      "2\n",
      "2\n",
      "2\n",
      "2\n"
     ]
    }
   ],
   "source": [
    "for c in componentes_mundo_aleatorio:\n",
    "    print(len(c))"
   ]
  },
  {
   "cell_type": "code",
   "execution_count": 142,
   "metadata": {
    "collapsed": true
   },
   "outputs": [],
   "source": [
    "## Nos quedamos solo con la componente gigante de esto.\n",
    "componente_gigante_mundo_aleatorio = nx.Graph(mundo_aleatorio.subgraph(componentes_mundo_aleatorio[0]))"
   ]
  },
  {
   "cell_type": "code",
   "execution_count": 143,
   "metadata": {},
   "outputs": [
    {
     "name": "stdout",
     "output_type": "stream",
     "text": [
      "Coeficiente de clustering C: 0.00415094387844598\n",
      "Camino mínimo medio: 4.732777726547197\n"
     ]
    }
   ],
   "source": [
    "clustering_y_shortest_path(componente_gigante_mundo_aleatorio)"
   ]
  },
  {
   "cell_type": "markdown",
   "metadata": {},
   "source": [
    "Al generar el grafo de manera aleatoria, es mucho más dificil que se generen clusters. Por eso el coeficiente de clustering es muchísimo más bajo. El camino mínimo medio baja. No mucho, pero baja. Eso intuimos que es porque en un grafo de mundo pequeño hay algunos nodos destacados dentro de cada cluster que tienen muchas aristas que se comunican con otros clusters. En cambio, en un grafo aleatorio con bajo coeficiente de clustering, es más fácil encontrar aristas que conecten distintas \"regiones\" del grafo, lo cual termina bajando la distancia promedio entre nodos.\n",
    "\n",
    "Claramente, el grafo generado aleatoriamente no presenta las propiedades de un \"mundo pequeño\"."
   ]
  },
  {
   "cell_type": "markdown",
   "metadata": {},
   "source": [
    "## Estrellas"
   ]
  },
  {
   "cell_type": "markdown",
   "metadata": {},
   "source": [
    "Una idea sencilla es tomar a los nodos con mayor grado. Probemos:"
   ]
  },
  {
   "cell_type": "code",
   "execution_count": 170,
   "metadata": {},
   "outputs": [
    {
     "data": {
      "text/plain": [
       "[('Lee', 55),\n",
       " ('Ambjorn', 41),\n",
       " ('Kim', 39),\n",
       " ('Ferrara', 35),\n",
       " ('Park', 35),\n",
       " ('Vafa', 34),\n",
       " ('Strominger', 31),\n",
       " ('Gibbons', 28),\n",
       " ('Odintsov', 28),\n",
       " ('Pope', 27)]"
      ]
     },
     "execution_count": 170,
     "metadata": {},
     "output_type": "execute_result"
    }
   ],
   "source": [
    "tuplas_estrellas_grados = sorted(nx.degree(componente_gigante), key = lambda x: x[1], reverse = True)\n",
    "tuplas_estrellas_grados[:10]"
   ]
  },
  {
   "cell_type": "code",
   "execution_count": 147,
   "metadata": {
    "collapsed": true
   },
   "outputs": [],
   "source": [
    "closseness = nx.algorithms.centrality.closeness_centrality(componente_gigante)"
   ]
  },
  {
   "cell_type": "code",
   "execution_count": 172,
   "metadata": {
    "scrolled": true
   },
   "outputs": [
    {
     "data": {
      "text/plain": [
       "[('Lee', 0.24211540004815024),\n",
       " ('Vafa', 0.24182430266110932),\n",
       " ('Strominger', 0.23590585659551178),\n",
       " ('Ferrara', 0.23427550861935084),\n",
       " ('Park', 0.2335500851525004),\n",
       " ('Kim', 0.23331528884077024),\n",
       " ('Lu', 0.23327920822701617),\n",
       " ('Lowe', 0.2321840849622903),\n",
       " ('Polchinski', 0.23200553675792063),\n",
       " ('Peet', 0.23081631091729785)]"
      ]
     },
     "execution_count": 172,
     "metadata": {},
     "output_type": "execute_result"
    }
   ],
   "source": [
    "tuplas_estrellas_closeness = sorted(closseness.items(), key = lambda x: x[1], reverse = True)\n",
    "tuplas_estrellas_closeness[:10]"
   ]
  },
  {
   "cell_type": "markdown",
   "metadata": {},
   "source": [
    "Computando el grado de cada autor, y la medida de centralidad por closseness, encontramos que Lee, Ferrara, Park y Kim muestran elevados indices de \"estrellato\" para ambas métricas. "
   ]
  },
  {
   "cell_type": "code",
   "execution_count": 181,
   "metadata": {
    "collapsed": true
   },
   "outputs": [],
   "source": [
    "def quitar_hasta_romper(nodos, G):\n",
    "    G_ = G.copy()\n",
    "    c = 0\n",
    "    for nodo in nodos:\n",
    "        c += 1\n",
    "        G_.remove_node(nodo)\n",
    "        if not nx.is_connected(G_):\n",
    "            return c\n",
    "    return None"
   ]
  },
  {
   "cell_type": "code",
   "execution_count": 177,
   "metadata": {},
   "outputs": [
    {
     "data": {
      "text/plain": [
       "1"
      ]
     },
     "execution_count": 177,
     "metadata": {},
     "output_type": "execute_result"
    }
   ],
   "source": [
    "quitar_hasta_romper([c[0] for c in tuplas_estrellas_closeness], componente_gigante)"
   ]
  },
  {
   "cell_type": "code",
   "execution_count": 178,
   "metadata": {},
   "outputs": [
    {
     "data": {
      "text/plain": [
       "1"
      ]
     },
     "execution_count": 178,
     "metadata": {},
     "output_type": "execute_result"
    }
   ],
   "source": [
    "quitar_hasta_romper([c[0] for c in tuplas_estrellas_grados], componente_gigante)"
   ]
  },
  {
   "cell_type": "markdown",
   "metadata": {},
   "source": [
    "Quitando a los autores estrella, en orden de 'estrellato', encontramos que quitar Lee al ser demasiado central alcanza para romper la conectividad del grafo. Probamos entonces sin tener en cuenta a Lee."
   ]
  },
  {
   "cell_type": "code",
   "execution_count": 179,
   "metadata": {},
   "outputs": [
    {
     "data": {
      "text/plain": [
       "4"
      ]
     },
     "execution_count": 179,
     "metadata": {},
     "output_type": "execute_result"
    }
   ],
   "source": [
    "quitar_hasta_romper([c[0] for c in tuplas_estrellas_closeness][1:], componente_gigante)"
   ]
  },
  {
   "cell_type": "code",
   "execution_count": 180,
   "metadata": {},
   "outputs": [
    {
     "data": {
      "text/plain": [
       "2"
      ]
     },
     "execution_count": 180,
     "metadata": {},
     "output_type": "execute_result"
    }
   ],
   "source": [
    "quitar_hasta_romper([c[0] for c in tuplas_estrellas_grados][1:], componente_gigante)"
   ]
  },
  {
   "cell_type": "markdown",
   "metadata": {},
   "source": [
    "Vemos que ignorando al componente de mayor métrica, la medida de grados pareciera computar mejor la importancia del autor, con la finalidad de romper el grafo, ya que con quitar los siguiente 2 componentes alcanza para romper el grafo, en contraste a los 4 requeridos siguiendo los puntajes de closeness. "
   ]
  },
  {
   "cell_type": "code",
   "execution_count": null,
   "metadata": {
    "collapsed": true
   },
   "outputs": [],
   "source": []
  }
 ],
 "metadata": {
  "kernelspec": {
   "display_name": "Python 3",
   "language": "python",
   "name": "python3"
  },
  "language_info": {
   "codemirror_mode": {
    "name": "ipython",
    "version": 3
   },
   "file_extension": ".py",
   "mimetype": "text/x-python",
   "name": "python",
   "nbconvert_exporter": "python",
   "pygments_lexer": "ipython3",
   "version": "3.7.1"
  }
 },
 "nbformat": 4,
 "nbformat_minor": 2
}
