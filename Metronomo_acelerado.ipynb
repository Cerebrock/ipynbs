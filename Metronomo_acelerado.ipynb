{
 "cells": [
  {
   "cell_type": "code",
   "execution_count": 14,
   "metadata": {
    "collapsed": true
   },
   "outputs": [],
   "source": [
    "from IPython.display import Audio, display, clear_output\n",
    "import numpy as np\n",
    "from time import sleep"
   ]
  },
  {
   "cell_type": "code",
   "execution_count": 15,
   "metadata": {
    "collapsed": true
   },
   "outputs": [],
   "source": [
    "def play(freq, s, A = 1):\n",
    "    framerate = 44100\n",
    "    t = np.linspace(0,s,framerate*s)\n",
    "    d = A * np.cos(2*np.pi*freq*t)\n",
    "    return d"
   ]
  },
  {
   "cell_type": "code",
   "execution_count": 16,
   "metadata": {
    "collapsed": false
   },
   "outputs": [
    {
     "name": "stdout",
     "output_type": "stream",
     "text": [
      "120\n"
     ]
    },
    {
     "data": {
      "text/html": [
       "\n",
       "                <audio controls=\"controls\" autoplay=\"autoplay\">\n",
       "                    <source src=\"data:audio/wav;base64,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\" type=\"audio/wav\" />\n",
       "                    Your browser does not support the audio element.\n",
       "                </audio>\n",
       "              "
      ],
      "text/plain": [
       "<IPython.lib.display.Audio object>"
      ]
     },
     "metadata": {},
     "output_type": "display_data"
    },
    {
     "ename": "KeyboardInterrupt",
     "evalue": "",
     "output_type": "error",
     "traceback": [
      "\u001b[0;31m---------------------------------------------------------------------------\u001b[0m",
      "\u001b[0;31mKeyboardInterrupt\u001b[0m                         Traceback (most recent call last)",
      "\u001b[0;32m<ipython-input-16-af4c426a6428>\u001b[0m in \u001b[0;36m<module>\u001b[0;34m()\u001b[0m\n\u001b[1;32m      7\u001b[0m     \u001b[0mprint\u001b[0m\u001b[1;33m(\u001b[0m\u001b[0mtempo\u001b[0m\u001b[1;33m)\u001b[0m\u001b[1;33m\u001b[0m\u001b[0m\n\u001b[1;32m      8\u001b[0m     \u001b[0mdisplay\u001b[0m\u001b[1;33m(\u001b[0m\u001b[0mAudio\u001b[0m\u001b[1;33m(\u001b[0m\u001b[0mplay\u001b[0m\u001b[1;33m(\u001b[0m\u001b[1;36m440\u001b[0m\u001b[1;33m,\u001b[0m \u001b[1;36m0.02\u001b[0m\u001b[1;33m)\u001b[0m\u001b[1;33m,\u001b[0m \u001b[0mrate\u001b[0m\u001b[1;33m=\u001b[0m\u001b[1;36m44100\u001b[0m\u001b[1;33m,\u001b[0m \u001b[0mautoplay\u001b[0m \u001b[1;33m=\u001b[0m \u001b[1;32mTrue\u001b[0m\u001b[1;33m)\u001b[0m\u001b[1;33m)\u001b[0m\u001b[1;33m\u001b[0m\u001b[0m\n\u001b[0;32m----> 9\u001b[0;31m     \u001b[0msleep\u001b[0m\u001b[1;33m(\u001b[0m\u001b[1;36m60\u001b[0m \u001b[1;33m/\u001b[0m \u001b[0mtempo\u001b[0m\u001b[1;33m)\u001b[0m\u001b[1;33m\u001b[0m\u001b[0m\n\u001b[0m\u001b[1;32m     10\u001b[0m     \u001b[0mclear_output\u001b[0m\u001b[1;33m(\u001b[0m\u001b[1;33m)\u001b[0m\u001b[1;33m\u001b[0m\u001b[0m\n\u001b[1;32m     11\u001b[0m     \u001b[1;32mif\u001b[0m \u001b[0mc\u001b[0m \u001b[1;33m==\u001b[0m \u001b[0mciclo\u001b[0m\u001b[1;33m:\u001b[0m\u001b[1;33m\u001b[0m\u001b[0m\n",
      "\u001b[0;31mKeyboardInterrupt\u001b[0m: "
     ]
    }
   ],
   "source": [
    "tempo = 120\n",
    "ciclo = 35\n",
    "c = 0\n",
    "\n",
    "while 1:\n",
    "    c += 1\n",
    "    print(tempo)\n",
    "    display(Audio(play(440, 0.02), rate=44100, autoplay = True))\n",
    "    sleep(60 / tempo)\n",
    "    clear_output()\n",
    "    if c == ciclo:\n",
    "        tempo += 5\n",
    "        c = 0"
   ]
  },
  {
   "cell_type": "code",
   "execution_count": null,
   "metadata": {
    "collapsed": true
   },
   "outputs": [],
   "source": []
  },
  {
   "cell_type": "code",
   "execution_count": null,
   "metadata": {
    "collapsed": true
   },
   "outputs": [],
   "source": []
  }
 ],
 "metadata": {
  "kernelspec": {
   "display_name": "Python [default]",
   "language": "python",
   "name": "python3"
  },
  "language_info": {
   "codemirror_mode": {
    "name": "ipython",
    "version": 3
   },
   "file_extension": ".py",
   "mimetype": "text/x-python",
   "name": "python",
   "nbconvert_exporter": "python",
   "pygments_lexer": "ipython3",
   "version": "3.5.4"
  }
 },
 "nbformat": 4,
 "nbformat_minor": 2
}
