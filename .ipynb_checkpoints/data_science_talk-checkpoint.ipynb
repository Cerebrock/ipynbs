{
 "cells": [
  {
   "cell_type": "code",
   "execution_count": null,
   "metadata": {
    "hideCode": false,
    "hideOutput": true,
    "hidePrompt": true,
    "slideshow": {
     "slide_type": "slide"
    }
   },
   "outputs": [],
   "source": [
    "from IPython import presentacion"
   ]
  },
  {
   "cell_type": "markdown",
   "metadata": {
    "slideshow": {
     "slide_type": "slide"
    }
   },
   "source": [
    "## Qué es Data Science?\n",
    "\n",
    "   La **ciencia de datos** es una disciplina que se construye tomando elementos de disciplinas variadas, quedando delimitada por bordes difusos. Tradicionalmente, la **Estadística** es la ciencia que se ocupa de todo lo relativo al manejo de datos: su **recolección**, el **análisis descriptivo**, y la puesta a **prueba de hipótesis** para **inferir conclusiones**. Al combinarse con la capacidad computacional moderna y algoritmos de cálculo numérico, resulta lo que hoy llamamos ciencia de datos. Metodos tradicionales como el método de cuadrados mínimos, descubierto por Gauss en 1801, pueden ser hoy en día considerados data science cuando se aplican en enormes cantidades de datos. \n",
    "    \n",
    "<table style=\"border:0\">\n",
    "    <tr style = 'border-style: none'>\n",
    "        <td style = 'border: 0'><img src = 'https://media-exp2.licdn.com/mpr/mpr/AAEAAQAAAAAAAAmcAAAAJDgzMjE4YmJjLTg5YWEtNGYzYi04MTRiLWQ0YzFjNzk3NzE1NA.jpg' style = 'width: 450px;'>\n",
    "         </td>\n",
    "    </tr>\n",
    "</table>\n",
    "        "
   ]
  },
  {
   "cell_type": "markdown",
   "metadata": {
    "slideshow": {
     "slide_type": "subslide"
    }
   },
   "source": [
    "### El objetivo esta charla es dar una noción general sobre este campo, abordando a grandes rasgos sus principios para poder pensar nuevas aplicaciones, estimar los recursos necesarios y planificar su implementación  \n",
    "\n",
    "<table style=\"border:0\">\n",
    "    <tr style = 'border-style: none'>\n",
    "        <td style = 'border: 0'><img src = '\n",
    "https://www.ediscovery.co/wp-content/uploads/blog-images/Every60.png' style = 'width: 450px;'>\n",
    "         </td>\n",
    "    </tr>\n",
    "</table>"
   ]
  },
  {
   "cell_type": "markdown",
   "metadata": {
    "hideCode": false,
    "hideOutput": false,
    "hidePrompt": false,
    "slideshow": {
     "slide_type": "subslide"
    }
   },
   "source": [
    "### Los Pilares de Data Science\n",
    "\n",
    "<table style=\"border:0\">\n",
    "    <tr style = 'border-style: none'>\n",
    "        <td style = 'border: 0'><img src = 'https://github.com/Cerebrock/PythonDataScienceHandbook/raw/599aa0fe3f882c0001670e676e5a8d43b92c35fc/notebooks/figures/Data_Science_VD.png' style = 'width: 400px;'>\n",
    "        </td>\n",
    "        <td style = 'border: 0'><img src=\"https://i.imgur.com/WAhF2WZ.png\" style=\"width: 600px;\">\n",
    "        </td>\n",
    "    </tr>\n",
    "\n",
    "</table>"
   ]
  },
  {
   "cell_type": "markdown",
   "metadata": {
    "slideshow": {
     "slide_type": "subslide"
    }
   },
   "source": [
    "### Cuando el problema escala...\n",
    "\n",
    "<table style=\"border:0\">\n",
    "    <tr style = 'border-style: none'>\n",
    "        <td style = 'border: 0'><img src = 'https://image.slidesharecdn.com/anacondafusionwebinar-final-160624170403/95/bringing-open-data-science-into-excel-with-anaconda-fusion-7-638.jpg?cb=1466787973' style = 'width: 800px;'>\n",
    "        </td>\n",
    "    </tr>\n",
    "</table>\n",
    "\n",
    "    "
   ]
  },
  {
   "cell_type": "markdown",
   "metadata": {
    "hideOutput": true,
    "slideshow": {
     "slide_type": "slide"
    }
   },
   "source": [
    "### Con qué herramientas contamos? \n",
    "\n",
    "<table style=\"border:0\">\n",
    "    <tr style = 'border-style: none'>\n",
    "        <td style = 'border: 0'><img src = 'https://i.imgur.com/wD7sfTu.png' style = 'width: 500px;'>\n",
    "        </td>\n",
    "    </tr>\n",
    "</table>"
   ]
  },
  {
   "cell_type": "markdown",
   "metadata": {
    "slideshow": {
     "slide_type": "subslide"
    }
   },
   "source": [
    "### Otras tecnologías posibles:\n",
    "\n",
    "<table style=\"border:0\">\n",
    "    <tr style = 'border-style: none'>\n",
    "        <td style = 'border: 0'><img src = 'https://weidongzhou.files.wordpress.com/2015/09/spark_engine.jpg\n",
    "' style = 'width: 600px;'>\n",
    "        </td>\n",
    "    </tr>\n",
    "</table>\n",
    "    "
   ]
  },
  {
   "cell_type": "markdown",
   "metadata": {
    "slideshow": {
     "slide_type": "slide"
    }
   },
   "source": [
    "### Ejemplo 1. Podríamos a partir de datos sociodemográficos, series de tiempo de actividad comercial para distintas sucursales de un cadena de negocios (y otros datos):\n",
    "\n",
    " - Predecir actividad futura, por ejemplo para la semana siguiente\n",
    " - Analizar qué factores influyen en el negocio\n",
    " - Decidir en qué lugar conviene abrir la próxima sucursal\n",
    " - Calcular el impacto de distintas medidas posibles\n",
    " \n",
    "\n",
    "<table style=\"border:0\">\n",
    "    <tr style = 'border-style: none'>\n",
    "        <td style = 'border: 0'><img src = 'http://cs109.github.io/2015/figures/hubwayclustering.png' style = 'width: 600px;'>\n",
    "        </td>\n",
    "    </tr>\n",
    "</table>"
   ]
  },
  {
   "cell_type": "markdown",
   "metadata": {
    "slideshow": {
     "slide_type": "subslide"
    }
   },
   "source": [
    "### Qué datos podríamos usar?\n",
    "\n",
    "   Necesitariamos contar con **datos relevantes para problema a abordar**. Por ejemplo, si nuestro cliente fuera una cadena de vinoteca usaríamos un *dataset* de la actividad comercial de las distintas sucursales con variables como:     \n",
    " * Cantidad de vinos vendidos por marca\n",
    " * Momento del año, del mes o del día\n",
    " * Cercanía a transportes convenientes\n",
    " * Publicidad hecha para la sucursal\n",
    " * Calidad de vida de la población circundante\n",
    " * Devaluación de la moneda\n",
    " * Presencia del sommelier\n",
    " * ...\n",
    " \n",
    "Estas serían las **variables independientes** que usaríamos para modelar una **variable dependiente**, o **target**, que sería la cantidad de ventas para la semana siguiente en una sucursal dada. \n"
   ]
  },
  {
   "cell_type": "markdown",
   "metadata": {
    "slideshow": {
     "slide_type": "subslide"
    }
   },
   "source": [
    "   Si tenemos una **buena muestra** de datos, es decir que sea representativa y tiene suficiente número de casos, podemos construir un modelo para **predecir** el consumo en un momento futuro, o **entender** cuáles de estos factores influyen en las ventas. El número de datos necesarios para una tarea dependerá del problema en cuestión y su complejidad, el tipo de algorítmo, y la distribución de las variables. Si nuestro modelo funciona bien, tendremos una herramienta muy valiosa a la hora de toma de decisiones: \n",
    "\n",
    "    - Dónde pongo la siguiente sucursal?\n",
    "        Si encontramos que nuestro modelo dió mucho peso al factor \"cercanía con transportes convenientes\", decidiríamos ubicarla teniendo eso en cuenta!\n",
    "    \n",
    "    - Abro el negocio durante el próximo feriado?\n",
    "        Teniendo una predicción para las ventas futuras, podemos prever bajas en las rentas y tomar medidas con antelación. \n",
    "    \n",
    "    - Es eficiente más inversión en publicidad?\n",
    "    - Debería cerrar sucursales si continúa la devaluación?\n",
    "    - Convendría reemplazar al sommelier?\n",
    "    ..."
   ]
  },
  {
   "cell_type": "markdown",
   "metadata": {
    "slideshow": {
     "slide_type": "subslide"
    }
   },
   "source": [
    "### De dónde salen los datos?\n",
    "\n",
    "   Una vez definido nuestro problema a abarcar -modelar las ventas en distintas sucursales-, debemos procurar los datos necesarios. Los tipos de datos, y por lo tanto sus fuentes, pueden ser bastante variadas: \n",
    "    - Muchas de las variables que mencionamos podrían salir de un reporte diario generado automáticamente o hecho por los empleados (ej. productos vendidos). Estos podrían ser valores numéricos discretos, continuos, nominales.\n",
    "    - La información sobre la situación sociodemográfica circundante podría obtenerse de censos u otros relevamientos oficiales (organizados geográficamente).\n",
    "    - Otros datos podrían requerir vías menos estructuradas: para monitorear la demanda de un producto por el mercado quizás debieramos *scrapear* tweets periódicamente y analizar el texto. \n",
    "    - También podríamos utilizar datos de imagenes, audio, series de tiempo, u otros datos no estructurados.\n",
    "    \n",
    "### Y después?"
   ]
  },
  {
   "cell_type": "markdown",
   "metadata": {
    "slideshow": {
     "slide_type": "subslide"
    }
   },
   "source": [
    "### El proceso de Data Science\n",
    "\n",
    "<table style=\"border:0\">\n",
    "    <tr style = 'border-style: none'>\n",
    "        <td style = 'border: 0'><img src = 'https://cdn-images-1.medium.com/max/1600/1*_Iu9oD6j8Z4TEH3KvUqanA.png' style = 'width: 800px;'>    \n",
    "       </td>\n",
    "    </tr>\n",
    "</table>"
   ]
  },
  {
   "cell_type": "markdown",
   "metadata": {
    "slideshow": {
     "slide_type": "subslide"
    }
   },
   "source": [
    "### Cómo funciona el modelado estadístico?\n",
    "\n",
    "El **aprendizaje automático** consiste en un programa que mejora en realizar una tarea, conforme aumenta su experiencia (los datos), medido según una función de error. En el **aprendizaje supervisado**, cuyo ejemplo más simple es la regresión lineal, se parte de un conjunto de datos (**datos de entrenamiento**) asociados a una variable **target**. El modelo será entonces una función matemática que relacione las variables independientes con la variable target, que luego usaremos para predecir casos nuevos.\n",
    "\n",
    "<table style=\"border:0\">\n",
    "     <tr style = 'border: 0'><img src = 'https://upload.wikimedia.org/wikipedia/commons/thumb/3/3a/Linear_regression.svg/440px-Linear_regression.svg.png' style = 'width: 280px;'>\n",
    "        </tr>\n",
    "      \n",
    "</table> \n",
    "\n",
    "Una vez entrenado nuesto modelo óptimo, usamos una métrica de error sobre los **datos de test** para ver su rendimiento. Si vemos que *generaliza bien a datos nuevos* podemos predecir sobre datos nunca vistos, explorar que variables influyen en el **target**, continuar con el deployment, o **visualizar** los resultados.\n"
   ]
  },
  {
   "cell_type": "markdown",
   "metadata": {
    "hideCode": true,
    "hidePrompt": false,
    "slideshow": {
     "slide_type": "subslide"
    }
   },
   "source": [
    "### Dashboards para BI\n",
    "\n",
    "La **visualización** y comunicación de los datos es una parte importante de la data science, ya que el éxito de sus resultados depende de su influencia en el entorno. Si se trata de un **sistema embebido** que incluye interacción con los usuarios, la interfaz gráfica puede ser tan importante como el rendimiento del modelo. En el caso de aplicaciones para BI, la toma de decisiones dependerá en gran parte de la efectividad en la transmisión de la información. \n",
    "\n",
    "<table style=\"border:0\">\n",
    "    <tr style = 'border-style: none'>\n",
    "        <td style = 'border: 0'><img src = 'https://i.imgur.com/oDwR9q8.jpg' style = 'width: 600px;'>\n",
    "        </td>\n",
    "    </tr>\n",
    "</table>"
   ]
  },
  {
   "cell_type": "markdown",
   "metadata": {
    "hideOutput": true,
    "slideshow": {
     "slide_type": "subslide"
    }
   },
   "source": [
    "### Tipos de Machine Learning:\n",
    "\n",
    "   En el primer ejemplo, usamos datos estructurados (que desde el inicio se pueden organizar en una hoja de cálculo) para modelar el número de ventas a la semana siguiente. Como el modelo se entrena ya sabiendo el valor del *target* para la semana posterior, podemos considerarlo un **aprendizaje supervisado**. Este tipo de problema se denomina **regresión**, porque su variable target es continua.\n",
    "   \n",
    "<table style=\"border:0\">\n",
    "     <tr style = 'border: 0'><img src = 'https://www.mathworks.com/help/stats/machinelearningtypes.jpg\n",
    "' style = 'width: 350px;'>\n",
    "        </tr>\n",
    "</table> \n",
    "   "
   ]
  },
  {
   "cell_type": "markdown",
   "metadata": {
    "hideCode": false,
    "hidePrompt": false,
    "slideshow": {
     "slide_type": "slide"
    }
   },
   "source": [
    "## Redes neuronales\n",
    "\n",
    "Las **redes neuronales** son un subtipo de algoritmo dentro de machine learning, que se basa en el diseño de los circuitos del cerebro humano. Consisten en **nodos** organizados por **capas**, con una capa de entrada por donde ingresan los datos como **input**, múltiples capas ocultas donde se les aplican distintas transformaciones (multiplicaciones matriciales y funciones no lineales), y nodos de **output**, que devuelven el target que responde a la tarea para la que la red fue entrenada. \n",
    "\n",
    "<table style=\"border:0\">\n",
    "     <tr style = 'border: 0'><img src = 'http://www.bogotobogo.com/python/scikit-learn/images/NeuralNetwork1/NN-with-components-w11-etc.png' style = 'width: 400px;'>\n",
    "        </tr>\n",
    "</table> "
   ]
  },
  {
   "cell_type": "markdown",
   "metadata": {
    "slideshow": {
     "slide_type": "subslide"
    }
   },
   "source": [
    "Son el conjunto de algoritmos más **sofisticados y complejos**, pero lo que **ganan en predicción, pierden en interpretabilidad**. Es el tipo de algoritmo que mejor funciona para tareas **perceptuales** como reconocimiento de objetos en imagenes, identificación del locutor a partir de audio, o generación de texto. Para funcionar bien requieren **muchos datos y mucho tiempo de entrenamiento**."
   ]
  },
  {
   "cell_type": "markdown",
   "metadata": {
    "slideshow": {
     "slide_type": "slide"
    }
   },
   "source": [
    "### Ejemplo 2. Una compañía de servicios nota que un gran porcentaje de sus clientes se da de baja al primer mes, y propone a su equipo de data science presentar una solución.\n",
    "\n",
    "   En este caso, querremos predecir si un cliente va a abandonar el servicio o no: es decir, una variable categórica binaria. Como el *output* será 1 de 2 clases, nos encontramos con un problema de **clasificación**. Al ser aprendizaje supervisado, para acatar este problema necesitaremos un dataset que contenga variables relacionadas a lo que queremos modelar, y sus **etiquetas** correspondientes (abandonó: 0 | 1). \n",
    "\n",
    "<table style=\"border:0\">\n",
    "    <tr style = 'border-style: none'>\n",
    "        <td style = 'border: 0'><img src = 'https://i.stack.imgur.com/IiDeV.png' style = 'width: 550px;'>\n",
    "            <div class=\"bottom-right\"><b>Frontera de decisión para un problema de *churn*</b></div>   \n",
    "        </td>\n",
    "    </tr>\n",
    "</table>"
   ]
  },
  {
   "cell_type": "markdown",
   "metadata": {
    "slideshow": {
     "slide_type": "subslide"
    }
   },
   "source": [
    "## Series de tiempo\n",
    "\n",
    "Muchas veces encontramos **datos organizados en el tiempo**, lo que nos aporta información sobre la dinámica del proceso. El análisis de series de tiempo nos proporciona un marco para su análisis, ya de mucho desarrollo de mano de las finanzas, permitiendonos posiblemente encontrar tendencias, estacionalidad, o distintos patrones. Dependiendo del caso, podemos recurrir a métodos tradionales como los autorregresivos, otros propios de data science como modelos de ensamble, o redes neuronales."
   ]
  },
  {
   "cell_type": "markdown",
   "metadata": {
    "slideshow": {
     "slide_type": "slide"
    }
   },
   "source": [
    "### Ej 3. Una intendencia recibe cientos de mensajes por día, que tienen distintas intenciones: sugerencias, reclamos, agradecimientos... \n",
    "\n",
    "En este caso de problemas donde no se tiene un **target** definido, o donde no se cuenta con un dataset etiquetado, \n",
    "podemos aplicar técnicas de aprendizaje no supervisado. Mediante técnicas de **NLP**, **reducción de dimensionalidad**, y **clustering**, podemos identificar grupos de mensajes y categorizarlos automáticamente, filtrando los que ameritan revisión de los que no.\n",
    "\n",
    "<table style=\"border:0\">\n",
    "    <tr style = 'border-style: none'>\n",
    "        <td style = 'border: 0'><img src = 'https://i.imgur.com/luznYAV.jpg' style = 'width: 600px;'>\n",
    "        </td>\n",
    "    </tr>\n",
    "</table>"
   ]
  },
  {
   "cell_type": "markdown",
   "metadata": {
    "slideshow": {
     "slide_type": "subslide"
    }
   },
   "source": [
    "## NLP\n",
    "   **Natural Languaje Processing** es un conjunto de técnicas para procesado de texto natural (lenguajes hablados). Las más básicas consisten en casi un simple recuento de las apariciones de cada palabra en cada texto, mientras que las más sofisticadas usan modelado vectorial y redes neuronales para crear *word embeddings*, que reflejan el contenido semántico. Ejemplos de su uso son:\n",
    "   \n",
    "   - Sentiment Analysis\n",
    "   - Clasificación automática de mails, tweets... \n",
    "   - Análisis del discurso:\n",
    "        - Investigación sociológica (ej, tendencias políticas en la población)\n",
    "        - Tendencias del mercado (ej, aumento de la popularidad de un producto)\n",
    "   - Chatbots\n",
    "    \n",
    "Otro ejemplo de aplicación útil podría ser la selección de personal basados en un modelo de NLP que modele la productividad de los empleados en base a características de su discurso, ayudando en el filtrado de candidatos. "
   ]
  },
  {
   "cell_type": "markdown",
   "metadata": {
    "hideCode": false,
    "hidePrompt": false,
    "slideshow": {
     "slide_type": "slide"
    }
   },
   "source": [
    "## Otras aplicaciones:\n",
    "\n",
    "### Sistemas de recomendación\n",
    "\n",
    "Una aplicación popular de Data Science son los **sistemas de recomendación**. La idea de estos es usar información diversa del usuario además su actividad pasada y la de los demás para recomendar nuevo contenido. Algunas de las innumerables empresas que utilizan estos sistemas son Netflix, Spotify y Amazón. Personalizando con precisión las recomendaciones de productos es posible aumentar considerablemente su alcance. Relacionados a estos sistemas, los **sistemas expertos** buscan tomar decisiones automáticamente en base a gran cantidad de información."
   ]
  },
  {
   "cell_type": "markdown",
   "metadata": {
    "hideCode": false,
    "hidePrompt": false,
    "slideshow": {
     "slide_type": "subslide"
    }
   },
   "source": [
    "#### Reconstrucción de imagenes mentales a partir de fMRI\n",
    "\n",
    "<table style=\"border:0\">\n",
    "    <tr style = 'border-style: none'>\n",
    "        <td style = 'border: 0'><img src = 'https://i.imgur.com/OKANsIi.png' style = 'width: 600px;'>\n",
    "        </td>\n",
    "        <td style = 'border: 0'><img src = 'https://www.thesun.co.uk/wp-content/uploads/2018/01/nintchdbpict000376010501.jpg?strip=all&w=960' style = 'width: 510px;'>\n",
    "        </td>\n",
    "     </tr>    \n",
    "</table>\n",
    "\n",
    "  - Machine learning para análisis de datos fisiológicos o biométricos:\n",
    "  - Estado de salud general por dimensión de dimensionalidad\n",
    "  - Reconocimiento de emociones a partir de sensores, video o audio"
   ]
  },
  {
   "cell_type": "markdown",
   "metadata": {
    "hideCode": false,
    "hidePrompt": false,
    "slideshow": {
     "slide_type": "subslide"
    }
   },
   "source": [
    "<table style=\"border:0\">\n",
    "    <tr style = 'border-style: none'>\n",
    "        <td style = 'border: 0'><img src = '                       https://cdn.narcity.com/u/2018/01/08/831c5e7f74ef740779f6668287978ba1010c427b.png_1200x630.png' style = 'width: 600px;'>\n",
    "        </td>\n",
    "    </tr>\n",
    "</table>\n",
    "\n",
    "  - Deep Learning para modelado 3D (uso en VR)\n",
    "  - Chatbots personalizados\n",
    "  - Emulación de voz\n",
    "  - ML con smartphones:\n",
    "      - Análisis a partir de actividad en la web, en chats, etc\n",
    "      - Asistentes virtuales \n",
    "      - Recomendaciones en tiempo real en base a ubicación y preferencias\n",
    "      - Análisis de actividad física..."
   ]
  },
  {
   "cell_type": "markdown",
   "metadata": {
    "hideCode": false,
    "hidePrompt": false,
    "slideshow": {
     "slide_type": "subslide"
    }
   },
   "source": [
    "<table style=\"border:0\">\n",
    "    <tr style = 'border-style: none'>\n",
    "        <td style = 'border: 0'><img src = 'https://static.independent.co.uk/s3fs-public/thumbnails/image/2018/02/13/10/boston-dynamics-spotmini-dog-robot.jpg' style = 'width: 500px;'>\n",
    "        </td>\n",
    "        <td style = 'border: 0'><img src=\"\n",
    "https://ewedit.files.wordpress.com/2017/12/metalhead.jpg?crop=0px,0px,2700px,1417.5px&resize=1200,630\" style=\"width: 500px;\">\n",
    "        </td>\n",
    "    </tr>\n",
    "</table>\n",
    "\n",
    "   - Reinforcement Learning, Deep Q, Algoritmos Genéticos para Robótica:\n",
    "       - Vehículos autónomos\n",
    "       - IAs para juegos\n",
    "   - Detección automática de aves\n",
    "   - Arte Generativo\n",
    "   - Style transfer\n"
   ]
  },
  {
   "cell_type": "markdown",
   "metadata": {
    "slideshow": {
     "slide_type": "slide"
    }
   },
   "source": [
    "### Y mucho más! \n",
    "\n",
    "Las aplicaciones posibles de este creciente abanico de herramientas son ilimitadas. A continuación se listan recursos adicionales y de referencia. Muchas gracias por la atención!\n"
   ]
  },
  {
   "cell_type": "markdown",
   "metadata": {
    "hideCode": false,
    "hideOutput": true,
    "hidePrompt": true,
    "slideshow": {
     "slide_type": "subslide"
    }
   },
   "source": [
    "Referencias y más información:\n",
    "    \n",
    "Sobre productos de DS:\n",
    "https://www.altexsoft.com/blog/datascience/how-to-structure-data-science-team-key-models-and-roles/\n",
    "\n",
    "https://www.quora.com/What-are-the-best-examples-of-data-science-applied-to-retail\n",
    "\n",
    "https://www.quora.com/How-does-a-data-scientist-help-a-product-team\n",
    "\n",
    "https://www.analyticsvidhya.com/blog/2015/09/applications-data-science\n",
    "\n",
    "Otros recursos:\n",
    "https://www.oreilly.com/topics/data\n",
    "\n",
    "https://towardsdatascience.com/\n",
    "\n",
    "https://www.kaggle.com/\n",
    "\n",
    "Libro intermedio de referencia sobre DS:\n",
    "http://www-bcf.usc.edu/~gareth/ISL/\n",
    "\n",
    "Ejemplo 1:\n",
    "http://cs109.github.io/2015/\n",
    "\n",
    "Paper reconstruccion de imagenes mentales:\n",
    "https://www.biorxiv.org/content/biorxiv/early/2017/12/30/240317.full.pdf\n",
    "\n",
    "Contacto:\n",
    "mtsgrinberg@gmail.com\n",
    "https://www.linkedin.com/in/matias-grinberg/"
   ]
  }
 ],
 "metadata": {
  "celltoolbar": "Slideshow",
  "hide_code_all_hidden": false,
  "kernelspec": {
   "display_name": "Python 3",
   "language": "python",
   "name": "python3"
  },
  "language_info": {
   "codemirror_mode": {
    "name": "ipython",
    "version": 3
   },
   "file_extension": ".py",
   "mimetype": "text/x-python",
   "name": "python",
   "nbconvert_exporter": "python",
   "pygments_lexer": "ipython3",
   "version": "3.7.1"
  }
 },
 "nbformat": 4,
 "nbformat_minor": 2
}
